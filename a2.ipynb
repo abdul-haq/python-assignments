{
 "cells": [
  {
   "cell_type": "code",
   "execution_count": 11,
   "metadata": {},
   "outputs": [
    {
     "name": "stdout",
     "output_type": "stream",
     "text": [
      "Enter Marks out of 20 for Each subject\n",
      "Enter marks of the first subject: 20\n",
      "Enter marks of the second subject: 10\n",
      "Enter marks of the third subject: 10\n",
      "Enter marks of the fourth subject: 20\n",
      "Enter marks of the fifth subject: 10\n",
      "Grade: B\n"
     ]
    }
   ],
   "source": [
    "print(\"Enter Marks out of 20 for Each subject\")\n",
    "sub1=int(input(\"Enter marks of the first subject: \"))\n",
    "sub2=int(input(\"Enter marks of the second subject: \"))\n",
    "sub3=int(input(\"Enter marks of the third subject: \"))\n",
    "sub4=int(input(\"Enter marks of the fourth subject: \"))\n",
    "sub5=int(input(\"Enter marks of the fifth subject: \"))\n",
    "total=(sub1+sub2+sub3+sub4+sub4)\n",
    "if(total>=90):\n",
    "    print(\"Grade: A\")\n",
    "elif(total>=80 & total<90):\n",
    "    print(\"Grade: B\")\n",
    "elif(total>=70 & total<80):\n",
    "    print(\"Grade: C\")\n",
    "elif(total>=60 & total<70):\n",
    "    print(\"Grade: D\")\n",
    "else:\n",
    "    print(\"Grade: F\")"
   ]
  },
  {
   "cell_type": "code",
   "execution_count": 17,
   "metadata": {},
   "outputs": [
    {
     "name": "stdout",
     "output_type": "stream",
     "text": [
      "Enter Number :4\n",
      "4 is an Even number\n"
     ]
    }
   ],
   "source": [
    "num=int(input(\"Enter Number : \"))\n",
    "if(num%2==0):\n",
    "    print(num,\"is an Even number\")\n",
    "else:\n",
    "    print(num,\"is an Odd number\")"
   ]
  },
  {
   "cell_type": "code",
   "execution_count": 16,
   "metadata": {},
   "outputs": [
    {
     "name": "stdout",
     "output_type": "stream",
     "text": [
      "the length of list is : 7\n"
     ]
    }
   ],
   "source": [
    "list=[1,4,6,7,2,3,2]\n",
    "print(\"the length of list is :\",len(list))"
   ]
  },
  {
   "cell_type": "code",
   "execution_count": 20,
   "metadata": {},
   "outputs": [
    {
     "name": "stdout",
     "output_type": "stream",
     "text": [
      "Total is :  25\n"
     ]
    }
   ],
   "source": [
    "list=[1,4,6,7,2,3,2]\n",
    "def sum(numbers):\n",
    "    total = 0\n",
    "    for i in numbers:\n",
    "        total += i\n",
    "    return total\n",
    "print(\"Total is : \",sum(list))"
   ]
  },
  {
   "cell_type": "code",
   "execution_count": 26,
   "metadata": {},
   "outputs": [
    {
     "name": "stdout",
     "output_type": "stream",
     "text": [
      "Largest number in the list is :  84\n"
     ]
    }
   ],
   "source": [
    "list=[1,84,44,7,29,32,2]\n",
    "print(\"Largest number in the list is : \",max(list))"
   ]
  },
  {
   "cell_type": "code",
   "execution_count": 39,
   "metadata": {},
   "outputs": [
    {
     "name": "stdout",
     "output_type": "stream",
     "text": [
      "[1, 2]\n"
     ]
    }
   ],
   "source": [
    "list=[1,84,44,7,29,32,2]\n",
    "#[output] for [item] in [list] if [filter]\n",
    "print([num for num in list if num < 5])\n"
   ]
  },
  {
   "cell_type": "code",
   "execution_count": null,
   "metadata": {},
   "outputs": [],
   "source": []
  }
 ],
 "metadata": {
  "kernelspec": {
   "display_name": "Python 3",
   "language": "python",
   "name": "python3"
  },
  "language_info": {
   "codemirror_mode": {
    "name": "ipython",
    "version": 3
   },
   "file_extension": ".py",
   "mimetype": "text/x-python",
   "name": "python",
   "nbconvert_exporter": "python",
   "pygments_lexer": "ipython3",
   "version": "3.7.4"
  }
 },
 "nbformat": 4,
 "nbformat_minor": 2
}
