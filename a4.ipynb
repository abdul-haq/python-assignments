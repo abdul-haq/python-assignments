{
 "cells": [
  {
   "cell_type": "code",
   "execution_count": 3,
   "metadata": {},
   "outputs": [
    {
     "name": "stdout",
     "output_type": "stream",
     "text": [
      "first_name is abdul\n",
      "last_name is haq\n",
      "age is 22\n",
      "city is karachi\n",
      "\n",
      "Adding qualification \n",
      "first_name is abdul\n",
      "last_name is haq\n",
      "age is 22\n",
      "city is karachi\n",
      "qualification is Undergraduate Student\n",
      "\n",
      "Removing qualification \n",
      "first_name is abdul\n",
      "last_name is haq\n",
      "age is 22\n",
      "city is karachi\n"
     ]
    }
   ],
   "source": [
    "person ={\n",
    "  \"first_name\": \"abdul\",\n",
    "  \"last_name\": \"haq\",\n",
    "  \"age\": \"22\",\n",
    "  \"city\": \"karachi\"\n",
    "}\n",
    "\n",
    "for key, value in person.items():\n",
    "    print(key + \" is \" + value)\n",
    "\n",
    " \n",
    "person[\"qualification\"] =\"Undergraduate Student\"\n",
    "print(\"\\nAdding qualification \")\n",
    "for key, value in person.items():\n",
    "    print(key + \" is \" + value)\n",
    "\n",
    "\n",
    "person.pop(\"qualification\")\n",
    "print(\"\\nRemoving qualification \")\n",
    "for key, value in person.items():\n",
    "    print(key + \" is \" + value)"
   ]
  },
  {
   "cell_type": "code",
   "execution_count": 5,
   "metadata": {},
   "outputs": [
    {
     "name": "stdout",
     "output_type": "stream",
     "text": [
      "City : Karachi  Country : Pakistan  Population : 33 Millions  Fact : City of lights\n",
      "City : Istanbul Country : Turkey population : 15 Millions Fact : Architectural  Beauty\n",
      "City : Chornobal Country : Russia Population : 0.000 Million Fact : Nuclear Affected Area\n"
     ]
    }
   ],
   "source": [
    " cites ={'Karachi' : 'City : Karachi '' Country : Pakistan '' Population : 33 Millions '' Fact : City of lights' ,\n",
    "   'Istanbul'  : 'City : Istanbul ''Country : Turkey ''population : 15 Millions ''Fact : Architectural  Beauty'  ,\n",
    "   'Chornobal' :'City : Chornobal ''Country : Russia ''Population : 0.000 Million'' Fact : Nuclear Affected Area' } \n",
    "\n",
    "\n",
    "print(cites['Karachi']) \n",
    "\n",
    "print(cites['Istanbul'])\n",
    "\n",
    "print(cites['Chornobal']) "
   ]
  },
  {
   "cell_type": "code",
   "execution_count": 6,
   "metadata": {},
   "outputs": [
    {
     "name": "stdout",
     "output_type": "stream",
     "text": [
      "\n",
      "Enter 'quit' when done \n",
      "Enter your age : 15\n",
      "Ticket Price = $15\n",
      "\n",
      "Enter 'quit' when done \n",
      "Enter your age : 44\n",
      "Ticket Price = $15\n",
      "\n",
      "Enter 'quit' when done \n",
      "Enter your age : 2\n",
      "Ticket is free\n",
      "\n",
      "Enter 'quit' when done \n",
      "Enter your age : 9\n",
      "Ticket Price = $10\n",
      "\n",
      "Enter 'quit' when done \n",
      "Enter your age : quit\n"
     ]
    }
   ],
   "source": [
    "x = \"\\nEnter 'quit' when done \"\n",
    "x += \"\\nEnter your age : \"\n",
    "\n",
    "while True:\n",
    "    age = input(x)\n",
    "    if age == 'quit':\n",
    "        break\n",
    "    age = int(age)\n",
    "    if(age<3) :\n",
    "        print(\"Ticket is free\")\n",
    "    elif(age>=3 and age<12) :\n",
    "        print(\"Ticket Price = $10\")\n",
    "    elif(age>12) :\n",
    "        print(\"Ticket Price = $15\")"
   ]
  },
  {
   "cell_type": "code",
   "execution_count": 8,
   "metadata": {},
   "outputs": [
    {
     "name": "stdout",
     "output_type": "stream",
     "text": [
      "Enter book title : Rich Dad Poor Dad\n",
      "One of my favourite book title is : Rich Dad Poor Dad\n"
     ]
    }
   ],
   "source": [
    "def favorite_book(title):\n",
    "    print(\"One of my favourite book title is : \"+title)\n",
    "\n",
    "x=input(\"Enter book title : \")\n",
    "favorite_book(x)"
   ]
  },
  {
   "cell_type": "code",
   "execution_count": 10,
   "metadata": {},
   "outputs": [
    {
     "name": "stdout",
     "output_type": "stream",
     "text": [
      "Enter value to match with random number to win game : 5\n",
      "5\n",
      "HINT : Add this positive value to your input value   -20\n",
      "your input is less then the a radnom number  try again\n",
      "Enter number : 25\n",
      "Number matched you win  25 25\n"
     ]
    }
   ],
   "source": [
    "import random\n",
    "list =range(1, 31)\n",
    "\n",
    "num =int(input(\"Enter value to match with random number to win game : \"))\n",
    "\n",
    "print (num)\n",
    "\n",
    "a=random.choice(list)\n",
    "\n",
    "if (num == a):\n",
    " print (\"Win \",a,num)\n",
    "\n",
    "elif (num < a):\n",
    " sub=num-a\n",
    " print (\"HINT : Add this positive value to your input value  \",sub)\n",
    " print (\"your input is less then the a radnom number  try again\")\n",
    " num =int(input(\"Enter number : \"))\n",
    " \n",
    " if (num == a):\n",
    "     print (\"Number matched you win \",a,num)\n",
    " else :\n",
    "     print(\"you lost\",a,num)\n",
    "     \n",
    "elif (num > a):\n",
    "    print (\"Your number is greater then a random choice\")\n",
    "    num =int(input(\"enter again\"))\n",
    "    if (num == a):\n",
    "        print (\"You win\",a,num)\n",
    "    else :\n",
    "        print (\"You lost\",a,num)\n",
    "\n",
    "else:\n",
    "    print (\"invaled input\")"
   ]
  },
  {
   "cell_type": "code",
   "execution_count": null,
   "metadata": {},
   "outputs": [],
   "source": []
  }
 ],
 "metadata": {
  "kernelspec": {
   "display_name": "Python 3",
   "language": "python",
   "name": "python3"
  },
  "language_info": {
   "codemirror_mode": {
    "name": "ipython",
    "version": 3
   },
   "file_extension": ".py",
   "mimetype": "text/x-python",
   "name": "python",
   "nbconvert_exporter": "python",
   "pygments_lexer": "ipython3",
   "version": "3.7.4"
  }
 },
 "nbformat": 4,
 "nbformat_minor": 2
}
